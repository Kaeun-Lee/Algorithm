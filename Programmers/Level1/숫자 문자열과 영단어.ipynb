{
 "cells": [
  {
   "cell_type": "code",
   "execution_count": 1,
   "metadata": {},
   "outputs": [
    {
     "name": "stdout",
     "output_type": "stream",
     "text": [
      "1478\n",
      "234567\n",
      "234567\n",
      "123\n"
     ]
    }
   ],
   "source": [
    "# 2021 카카오 채용연계형 인턴십 | https://programmers.co.kr/learn/courses/30/lessons/81301\n",
    "\n",
    "# Solution_1\n",
    "def solution(s):\n",
    "    words = ['zero', 'one', 'two', 'three', 'four', 'five', 'six', 'seven', 'eight', 'nine']\n",
    "    \n",
    "    for word in words:\n",
    "        if word in s:\n",
    "            s = s.replace(word, str(words.index(word)))  # 리스트의 index를 사용하여 문자열 치환\n",
    "    return int(s)                                        # 문자열 -> 정수 return\n",
    "\n",
    "\n",
    "# Solution_2 -> Solution_1과 유사\n",
    "def solution(s):\n",
    "    words = ['zero', 'one', 'two', 'three', 'four', 'five', 'six', 'seven', 'eight', 'nine']\n",
    "    \n",
    "    for i in range(len(words)):                          # 리스트의 길이를 사용하여 index로 활용\n",
    "        s = s.replace(words[i], str(i))\n",
    "    return int(s)\n",
    "\n",
    "\n",
    "# Solution_3\n",
    "num_dic = {\"zero\":\"0\", \"one\":\"1\", \"two\":\"2\", \"three\":\"3\", \"four\":\"4\", \n",
    "           \"five\":\"5\", \"six\":\"6\", \"seven\":\"7\", \"eight\":\"8\", \"nine\":\"9\"}\n",
    "\n",
    "def solution(s):\n",
    "    answer = s\n",
    "    for k, v in num_dic.items():                         # dict의 key, value를 활용\n",
    "        answer = answer.replace(k, v)\n",
    "    return int(answer)\n",
    "        \n",
    "    \n",
    "    \n",
    "test_case1 = solution(\"one4seveneight\")\n",
    "test_case2 = solution(\"23four5six7\")\n",
    "test_case3 = solution(\"2three45sixseven\")\n",
    "test_case4 = solution(\"123\")\n",
    "print(test_case1)  # 1478\n",
    "print(test_case2)  # 234567\n",
    "print(test_case3)  # 234567\n",
    "print(test_case4)  # 123"
   ]
  }
 ],
 "metadata": {
  "interpreter": {
   "hash": "49de8edb4a174572adfce8885130fd6486c82b1df7252289157b68155bf6ea64"
  },
  "kernelspec": {
   "display_name": "Python 3.7.10 64-bit ('AI_exam': conda)",
   "language": "python",
   "name": "python3"
  },
  "language_info": {
   "codemirror_mode": {
    "name": "ipython",
    "version": 3
   },
   "file_extension": ".py",
   "mimetype": "text/x-python",
   "name": "python",
   "nbconvert_exporter": "python",
   "pygments_lexer": "ipython3",
   "version": "3.7.10"
  },
  "orig_nbformat": 4
 },
 "nbformat": 4,
 "nbformat_minor": 2
}
