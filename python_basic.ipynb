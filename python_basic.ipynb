{
 "cells": [
  {
   "cell_type": "markdown",
   "metadata": {},
   "source": [
    "### <문자열 자료형>"
   ]
  },
  {
   "cell_type": "markdown",
   "metadata": {},
   "source": [
    "#### 1. 문자열 인덱싱 -> 불가능\n",
    "- 문자열은 변경 `불가능한(immutable) 자료형`\n",
    "- 문자열의 요솟값은 바꿀 수 있는 값이 아님"
   ]
  },
  {
   "cell_type": "code",
   "execution_count": 1,
   "metadata": {},
   "outputs": [],
   "source": [
    "a = \"Pithon\"\n",
    "# a[1] = \"y\"  # TypeError: 'str' object does not support item assignment"
   ]
  },
  {
   "cell_type": "markdown",
   "metadata": {},
   "source": [
    "#### 2. 문자열 포맷 코드\n",
    "- 문자열 포맷 코드 %d와 %가 같은 문자열 안에 존재하는 경우,  \n",
    "%를 나타내려면 반드시 `%%`를 써야 함"
   ]
  },
  {
   "cell_type": "code",
   "execution_count": 2,
   "metadata": {},
   "outputs": [
    {
     "name": "stdout",
     "output_type": "stream",
     "text": [
      "Error is 100%\n"
     ]
    }
   ],
   "source": [
    "ex = \"Error is %d%%\" % 100\n",
    "print(ex)"
   ]
  },
  {
   "cell_type": "markdown",
   "metadata": {},
   "source": [
    "#### 3. f 문자열 포매팅\n",
    "- 표현식을 지원\n",
    "- 표현식 : 중괄호 안의 변수를 계산식과 함께 사용하는 것"
   ]
  },
  {
   "cell_type": "code",
   "execution_count": 3,
   "metadata": {},
   "outputs": [
    {
     "name": "stdout",
     "output_type": "stream",
     "text": [
      "내년이면 31살이 된다.\n"
     ]
    }
   ],
   "source": [
    "age = 30\n",
    "print(f\"내년이면 {age + 1}살이 된다.\")"
   ]
  },
  {
   "cell_type": "markdown",
   "metadata": {},
   "source": [
    "#### 4. 문자열 관련 함수들"
   ]
  },
  {
   "cell_type": "markdown",
   "metadata": {},
   "source": [
    "- 문자 개수 세기 - `count`"
   ]
  },
  {
   "cell_type": "code",
   "execution_count": 4,
   "metadata": {},
   "outputs": [
    {
     "data": {
      "text/plain": [
       "2"
      ]
     },
     "execution_count": 4,
     "metadata": {},
     "output_type": "execute_result"
    }
   ],
   "source": [
    "a = \"hobby\"\n",
    "a.count(\"b\")"
   ]
  },
  {
   "cell_type": "markdown",
   "metadata": {},
   "source": [
    "- 위치 알려주기 1 - `find`\n",
    "    - 문자열 중 찾는 문자가 **처음으로 나온 위치** 반환\n",
    "    - 만약 찾는 문자나 문자열이 **존재하지 않으면**, **-1** 반환"
   ]
  },
  {
   "cell_type": "code",
   "execution_count": 5,
   "metadata": {},
   "outputs": [
    {
     "name": "stdout",
     "output_type": "stream",
     "text": [
      "14\n",
      "-1\n"
     ]
    }
   ],
   "source": [
    "a = \"Python is the best choice\"\n",
    "print(a.find(\"b\"))\n",
    "print(a.find(\"x\"))"
   ]
  },
  {
   "cell_type": "markdown",
   "metadata": {},
   "source": [
    "- 위치 알려주기 2 - `index`\n",
    "    - 문자열 중 찾는 문자가 **처음으로 나온 위치** 반환\n",
    "    - 만약 찾는 문자나 문자열이 **존재하지 않으면**, **오류 발생**"
   ]
  },
  {
   "cell_type": "code",
   "execution_count": 6,
   "metadata": {},
   "outputs": [
    {
     "name": "stdout",
     "output_type": "stream",
     "text": [
      "6\n"
     ]
    }
   ],
   "source": [
    "a = \"Life is too short\"\n",
    "print(a.index(\"s\"))\n",
    "# print(a.index(\"x\"))  # ValueError: substring not found"
   ]
  },
  {
   "cell_type": "markdown",
   "metadata": {},
   "source": [
    "- 문자열 삽입 - `join` -> 문자열 return\n",
    "    - 문자열 각각의 문자 사이에 \"지정문자\"를 삽입\n",
    "    - 문자열뿐만 아니라 리스트나 튜플도 입력으로 사용 가능"
   ]
  },
  {
   "cell_type": "code",
   "execution_count": 7,
   "metadata": {},
   "outputs": [
    {
     "name": "stdout",
     "output_type": "stream",
     "text": [
      "h!i! !t!h!e!r!e\n",
      "a:b:c:d\n"
     ]
    }
   ],
   "source": [
    "print(\"!\".join(\"hi there\"))\n",
    "print(\":\".join([\"a\", \"b\", \"c\", \"d\"]))"
   ]
  },
  {
   "cell_type": "markdown",
   "metadata": {},
   "source": [
    "- 문자열 바꾸기 - `replace`\n",
    "    - ``replace(\"바뀔_문자열\", \"바꿀_문자열\")``\n",
    "    - 문자열 안의 특정한 값을 다른 값으로 치환\n",
    "    - (주의) **문자열은 immutable 자료형**이기 때문에, 문자열 자체의 값이 변경되는 것이 아니라 **변경된 값을 리턴**함  \n",
    "    -> 값을 저장하고 싶으면 **대입문** 사용"
   ]
  },
  {
   "cell_type": "code",
   "execution_count": 8,
   "metadata": {},
   "outputs": [
    {
     "name": "stdout",
     "output_type": "stream",
     "text": [
      "Life is too long\n",
      "['Life', 'is', 'too', 'short']\n"
     ]
    }
   ],
   "source": [
    "a = \"Life is too short\"\n",
    "print(a.replace(\"short\", \"long\"))\n",
    "print(a.split(\" \"))"
   ]
  },
  {
   "cell_type": "markdown",
   "metadata": {},
   "source": [
    "### <리스트 자료형>"
   ]
  },
  {
   "cell_type": "markdown",
   "metadata": {},
   "source": [
    "#### 1. 리스트 삭제\n",
    "- del 함수\n",
    "    - `del a[x]` : **x번째 요솟값** 삭제"
   ]
  },
  {
   "cell_type": "code",
   "execution_count": 9,
   "metadata": {},
   "outputs": [
    {
     "name": "stdout",
     "output_type": "stream",
     "text": [
      "[1, 3]\n",
      "[1, 2, 5]\n"
     ]
    }
   ],
   "source": [
    "a = [1, 2, 3]\n",
    "del a[1]\n",
    "print(a)\n",
    "\n",
    "# 리스트의 요소 여러 개 삭제\n",
    "a = [1, 2, 3, 4, 5]\n",
    "del a[2:4]\n",
    "print(a)"
   ]
  },
  {
   "cell_type": "markdown",
   "metadata": {},
   "source": [
    "#### 2. 리스트 관련 함수"
   ]
  },
  {
   "cell_type": "markdown",
   "metadata": {},
   "source": [
    "- 리스트에 요소 추가 - `append`\n",
    "    - `append(x)` : 리스트의 맨 마지막에 x를 추가\n",
    "    - `append([5, 6])` : 리스트에 다시 리스트를 추가"
   ]
  },
  {
   "cell_type": "code",
   "execution_count": 10,
   "metadata": {},
   "outputs": [
    {
     "name": "stdout",
     "output_type": "stream",
     "text": [
      "None\n",
      "[1, 2, 3, [5, 6], 4]\n"
     ]
    }
   ],
   "source": [
    "a = [1, 2, 3]\n",
    "print(a.append([5, 6]))  # None\n",
    "a.append(4)\n",
    "print(a)"
   ]
  },
  {
   "cell_type": "code",
   "execution_count": 11,
   "metadata": {},
   "outputs": [
    {
     "name": "stdout",
     "output_type": "stream",
     "text": [
      "HI\n",
      "hi\n"
     ]
    }
   ],
   "source": [
    "# 문자열과 출력 비교\n",
    "a = \"hi\"\n",
    "print(a.upper())\n",
    "print(a)"
   ]
  },
  {
   "cell_type": "markdown",
   "metadata": {},
   "source": [
    "- 리스트 뒤집기 - `reverse`\n",
    "    - 리스트를 역순으로 뒤집음\n",
    "    - (주의) **현재의 리스트를 그대로 거꾸로 뒤집음**\n",
    "        - 순서대로 정렬 후 다시 역순 정렬하는 것이 아님"
   ]
  },
  {
   "cell_type": "code",
   "execution_count": 12,
   "metadata": {},
   "outputs": [
    {
     "name": "stdout",
     "output_type": "stream",
     "text": [
      "[3, 4, 2, 5, 1]\n"
     ]
    }
   ],
   "source": [
    "a = [1, 5, 2, 4, 3]\n",
    "a.reverse()\n",
    "print(a)"
   ]
  },
  {
   "cell_type": "markdown",
   "metadata": {},
   "source": [
    "- 인덱스 반환 - `index`\n",
    "    - `index(x)` : 리스트에 x 값이 있으면 x의 인덱스 값(위칫값) 리턴\n",
    "    - **값이 없으면 오류 발생**"
   ]
  },
  {
   "cell_type": "code",
   "execution_count": 13,
   "metadata": {},
   "outputs": [
    {
     "name": "stdout",
     "output_type": "stream",
     "text": [
      "2\n"
     ]
    }
   ],
   "source": [
    "a = [1, 2, 3]\n",
    "print(a.index(3))\n",
    "# print(a.index(0))  # ValueError: 0 is not in list"
   ]
  },
  {
   "cell_type": "markdown",
   "metadata": {},
   "source": [
    "- 리스트 요소 제거 - `remove`\n",
    "    - `remove(x)` : 리스트에서 첫 번째로 나오는 x를 제거"
   ]
  },
  {
   "cell_type": "code",
   "execution_count": 14,
   "metadata": {},
   "outputs": [
    {
     "name": "stdout",
     "output_type": "stream",
     "text": [
      "[1, 2, 3, 5, 3]\n"
     ]
    }
   ],
   "source": [
    "a = [1, 2, 3, 3, 5, 3]\n",
    "a.remove(3)\n",
    "print(a)"
   ]
  },
  {
   "cell_type": "markdown",
   "metadata": {},
   "source": [
    "- 리스트 요소 꺼내기 - `pop`\n",
    "    - `pop()` : 리스트의 맨 마지막 요소를 리턴하고 해당 요소는 삭제\n",
    "    - `pop(x)` : 리스트의 **x번째 요소**를 리턴하고 해당 요소는 삭제"
   ]
  },
  {
   "cell_type": "code",
   "execution_count": 15,
   "metadata": {},
   "outputs": [
    {
     "name": "stdout",
     "output_type": "stream",
     "text": [
      "5\n",
      "[1, 2, 3, 4]\n",
      "[1, 3, 4]\n"
     ]
    }
   ],
   "source": [
    "a = [1, 2, 3, 4, 5]\n",
    "print(a.pop())\n",
    "print(a)\n",
    "\n",
    "a.pop(1)\n",
    "print(a)"
   ]
  },
  {
   "cell_type": "markdown",
   "metadata": {},
   "source": [
    "- 리스트에 포함된 요소 x의 개수 세기 - `count`\n",
    "    - `count(x)` : 리스트 안에 있는 x의 개수 리턴"
   ]
  },
  {
   "cell_type": "code",
   "execution_count": 16,
   "metadata": {},
   "outputs": [
    {
     "name": "stdout",
     "output_type": "stream",
     "text": [
      "2\n"
     ]
    }
   ],
   "source": [
    "a = [1, 1, 2, 3, 3]\n",
    "print(a.count(3))"
   ]
  },
  {
   "cell_type": "markdown",
   "metadata": {},
   "source": [
    "- 리스트의 확장 - `extend`\n",
    "    - `extend(x)` : 기존 리스트에 x 리스트 더하기\n",
    "        - x에는 리스트만 올 수 있음"
   ]
  },
  {
   "cell_type": "code",
   "execution_count": 17,
   "metadata": {},
   "outputs": [
    {
     "name": "stdout",
     "output_type": "stream",
     "text": [
      "[1, 2, 3, 4, 5]\n",
      "[1, 2, 3, 4, 5, 4, 5]\n"
     ]
    }
   ],
   "source": [
    "a = [1, 2, 3]\n",
    "a.extend([4, 5])\n",
    "print(a)\n",
    "\n",
    "a += [4, 5]  # extend 한 것과 동일\n",
    "print(a)"
   ]
  },
  {
   "cell_type": "markdown",
   "metadata": {},
   "source": [
    "### <튜플 자료형>\n",
    "- 리스트와 차이점\n",
    "    - `t1 = (1,)` : 1개의 요소만 가질 경우, 반드시 요소 뒤에 쉼표(,)를 붙여야 함\n",
    "    - `t2 = 1, 2, 3` : 소괄호(()) 생략 가능\n",
    "    - 요솟값 변화(삭제 및 변경) 불가능 \n",
    "        - sort, insert, remove, pop 같은 내장 함수 X"
   ]
  },
  {
   "cell_type": "code",
   "execution_count": 18,
   "metadata": {},
   "outputs": [
    {
     "name": "stdout",
     "output_type": "stream",
     "text": [
      "(1,) <class 'tuple'>\n",
      "(1, 2, 3) <class 'tuple'>\n"
     ]
    }
   ],
   "source": [
    "t1 = (1,)\n",
    "print(t1, type(t1))\n",
    "\n",
    "t2 = 1, 2, 3\n",
    "print(t2, type(t2))"
   ]
  },
  {
   "cell_type": "code",
   "execution_count": 19,
   "metadata": {},
   "outputs": [],
   "source": [
    "t3 = (1, 2, \"a\", \"b\")\n",
    "# del t3[0]  # TypeError: 'tuple' object doesn't support item deletion\n",
    "# t3[0] = 'hi'  # TypeError: 'tuple' object does not support item assignment"
   ]
  },
  {
   "cell_type": "markdown",
   "metadata": {},
   "source": [
    "#### 1. 튜플 다루기"
   ]
  },
  {
   "cell_type": "markdown",
   "metadata": {},
   "source": [
    "- 튜플 더하기"
   ]
  },
  {
   "cell_type": "code",
   "execution_count": 20,
   "metadata": {},
   "outputs": [
    {
     "data": {
      "text/plain": [
       "(1, 2, 3, 2, 4, 5)"
      ]
     },
     "execution_count": 20,
     "metadata": {},
     "output_type": "execute_result"
    }
   ],
   "source": [
    "t1 = (1, 2, 3)\n",
    "t1 += (2,)\n",
    "t1 += (4, 5)\n",
    "t1"
   ]
  },
  {
   "cell_type": "markdown",
   "metadata": {},
   "source": [
    "- 튜플 곱하기"
   ]
  },
  {
   "cell_type": "code",
   "execution_count": 21,
   "metadata": {},
   "outputs": [
    {
     "data": {
      "text/plain": [
       "(1, 3, 5, 1, 3, 5, 1, 3, 5)"
      ]
     },
     "execution_count": 21,
     "metadata": {},
     "output_type": "execute_result"
    }
   ],
   "source": [
    "t2 = (1, 3, 5)\n",
    "t2 *= 3\n",
    "t2"
   ]
  },
  {
   "cell_type": "markdown",
   "metadata": {},
   "source": [
    "### <딕셔너리 자료형>\n",
    "- 대응 관계를 나타내는 자료형\n",
    "    - 연관 배열(associative array), 해시(hash)라고도 함\n",
    "- 특징\n",
    "    - **리스트나 튜플처럼 순차적으로(sequential) 해당 요솟값을 구하지 않고, Key를 통해 Value를 얻음**\n",
    "    - 인덱싱 사용 불가"
   ]
  },
  {
   "cell_type": "markdown",
   "metadata": {},
   "source": [
    "#### 1. 딕셔너리 요소 삭제\n",
    "- `del a[key]` : 지정한 Key에 해당하는 {Key: Value} 쌍이 삭제됨"
   ]
  },
  {
   "cell_type": "code",
   "execution_count": 22,
   "metadata": {},
   "outputs": [
    {
     "data": {
      "text/plain": [
       "{'hi': 0, 'there': 2}"
      ]
     },
     "execution_count": 22,
     "metadata": {},
     "output_type": "execute_result"
    }
   ],
   "source": [
    "a = {\"hi\": 0, 1: \"there\", \"there\": 2}\n",
    "del a[1]\n",
    "a"
   ]
  },
  {
   "cell_type": "markdown",
   "metadata": {},
   "source": [
    "#### 2. 딕셔너리 만들 때 주의 사항\n",
    "- 딕셔너리의 Key는 고유한 값이므로 중복되는 Key 값을 설정하면, 하나를 제외한 나머지 {Key: Value} 쌍은 모두 무시됨\n",
    "    - 중복되는 Key 값들 중 맨 마지막 Key를 제외하고 나머지는 무시 \n",
    "- Key에 리스트(mutable) 사용 불가, 튜플(immutable)은 가능\n",
    "    - 단, Value에는 mutable, immutable 자료형 모두 가능"
   ]
  },
  {
   "cell_type": "code",
   "execution_count": 23,
   "metadata": {},
   "outputs": [
    {
     "name": "stdout",
     "output_type": "stream",
     "text": [
      "{'hi': 1}\n",
      "1\n",
      "{'hi': 0}\n",
      "0\n",
      "{1: [1, 2, 3], 2: (4, 5, 6)}\n"
     ]
    }
   ],
   "source": [
    "a = {\"hi\": 0, \"hi\": 1}\n",
    "print(a)\n",
    "print(a[\"hi\"])\n",
    "\n",
    "# b = {['hi']: 0}  # TypeError: unhashable type: 'list'\n",
    "\n",
    "c = {(\"hi\"): 0}\n",
    "print(c)\n",
    "print(c[\"hi\"])\n",
    "\n",
    "d = {1: [1, 2, 3], 2: (4, 5, 6)}\n",
    "print(d)"
   ]
  },
  {
   "cell_type": "markdown",
   "metadata": {},
   "source": [
    "#### 3. 딕셔너리 관련 함수"
   ]
  },
  {
   "cell_type": "markdown",
   "metadata": {},
   "source": [
    "- Key, Value 리스트 만들기 - `keys`, `values`\n",
    "    - `a.keys()` : 딕셔너리 a의 key만 모아 dict_keys 객체를 리턴\n",
    "    - `a.values()` : 딕셔너리 a의 value만 모아 dict_values 객체를 리턴\n",
    "    - **리스트를 리턴할 때 발생하는 메모리 낭비를 줄이기 위해**, python 3.0 이후 리스트를 반환하지 않고 **dict_keys 객체를 리턴**하도록 변경\n",
    "    - 리턴 값으로 리스트가 필요한 경우  \n",
    "      -> `list(a.keys())` 사용  \n",
    "      \n",
    "- dict_keys, dict_values, dict_items 객체는 **리스트로 변환하지 않아도, 반복 구문에서 사용 가능**\n",
    "  - **리스트 고유의 append, insert, pop, remove, sort 함수 수행 불가**"
   ]
  },
  {
   "cell_type": "code",
   "execution_count": 24,
   "metadata": {},
   "outputs": [
    {
     "name": "stdout",
     "output_type": "stream",
     "text": [
      "key 값 : dict_keys(['hi', 1, 'name'])\n",
      "value 값 : dict_values([0, 'bye', 'kani'])\n",
      "hi\n",
      "1\n",
      "name\n",
      "['hi', 1, 'name']\n",
      "[0, 'bye', 'kani']\n"
     ]
    }
   ],
   "source": [
    "a = {\"hi\": 0, 1: \"bye\", \"name\": \"kani\"}\n",
    "print(\"key 값 :\", a.keys())\n",
    "print(\"value 값 :\", a.values())\n",
    "\n",
    "for key in a.keys():\n",
    "    print(key)\n",
    "\n",
    "print(list(a.keys()))\n",
    "print(list(a.values()))"
   ]
  },
  {
   "cell_type": "markdown",
   "metadata": {},
   "source": [
    "- Key, Value 쌍 얻기 - `items`\n",
    "    - Key와 Value의 쌍을 **튜플**로 묶은 값을 dict_items 객체로 리턴"
   ]
  },
  {
   "cell_type": "code",
   "execution_count": 25,
   "metadata": {},
   "outputs": [
    {
     "data": {
      "text/plain": [
       "dict_items([('hi', 123), ('there', 456)])"
      ]
     },
     "execution_count": 25,
     "metadata": {},
     "output_type": "execute_result"
    }
   ],
   "source": [
    "a = {\"hi\": 123, \"there\": 456}\n",
    "a.items()"
   ]
  },
  {
   "cell_type": "markdown",
   "metadata": {},
   "source": [
    "- Key, Value 쌍 모두 지우기 - `clear`\n",
    "    - 딕셔너리 안은 모든 요소 삭제"
   ]
  },
  {
   "cell_type": "code",
   "execution_count": 26,
   "metadata": {},
   "outputs": [
    {
     "data": {
      "text/plain": [
       "{}"
      ]
     },
     "execution_count": 26,
     "metadata": {},
     "output_type": "execute_result"
    }
   ],
   "source": [
    "a = {\"hi\": 123, \"there\": 456}\n",
    "a.clear()\n",
    "a"
   ]
  },
  {
   "cell_type": "markdown",
   "metadata": {},
   "source": [
    "- Key로 Value 얻기 - `get`\n",
    "    - `get(x)` : x라는 Key에 대응되는 Value를 리턴\n",
    "    - `a.get('name')` 방식 vs. `a['name']` 방식\n",
    "        - 두 방식은 동일한 결괏값을 리턴함\n",
    "        - `a.get('name')` 방식 : 딕셔너리에 존재하지 않는 Key로 값을 가져오려고 할 경우, None을 리턴\n",
    "            - `.get(x, '디폴트 값')` : 딕셔너리 안에 찾으려는 Key가 없을 경우, 미리 정해둔 디폴트 값을 대신 가져오게 함\n",
    "        - `a['name']` 방식 : 딕셔너리에 존재하지 않는 Key로 값을 가져오려고 할 경우, Error 발생"
   ]
  },
  {
   "cell_type": "code",
   "execution_count": 27,
   "metadata": {},
   "outputs": [
    {
     "name": "stdout",
     "output_type": "stream",
     "text": [
      "123\n",
      "456\n",
      "None\n",
      "welcome\n"
     ]
    }
   ],
   "source": [
    "a = {\"hi\": 123, \"there\": 456}\n",
    "print(a.get(\"hi\"))\n",
    "print(a.get(\"there\"))\n",
    "print(a.get(\"bye\"))  # None\n",
    "print(a.get(\"bye\", \"welcome\"))\n",
    "# print(a[\"bye\"])  # KeyError: 'bye'"
   ]
  },
  {
   "cell_type": "markdown",
   "metadata": {},
   "source": [
    "- 해당 Key가 딕셔너리 안에 있는지 조사 - `in`\n",
    "    - 있으면 참(True) 리턴, 없으면 거짓(False) 리턴\n"
   ]
  },
  {
   "cell_type": "code",
   "execution_count": 28,
   "metadata": {},
   "outputs": [
    {
     "name": "stdout",
     "output_type": "stream",
     "text": [
      "True\n",
      "False\n"
     ]
    }
   ],
   "source": [
    "a = {\"hi\": 123, \"there\": 456}\n",
    "print(\"hi\" in a)\n",
    "print(\"bye\" in a)"
   ]
  },
  {
   "cell_type": "markdown",
   "metadata": {},
   "source": [
    "### <집합 자료형>\n",
    "- 집합에 관련된 것을 쉽게 처리하기 위해 만든 자료형\n",
    "- 중복 허용 X\n",
    "    - 데이터 중복을 제거하기 위한 필터로 종종 사용됨\n",
    "- 순서 없음 (Unordered)\n",
    "    - 인덱싱을 통해 요솟값을 얻을 수 없음\n",
    "    - set 자료형에 저장된 값을 인덱싱으로 접근하려면, 리스트나 튜플로 변환 후 해야 함"
   ]
  },
  {
   "cell_type": "code",
   "execution_count": 29,
   "metadata": {},
   "outputs": [
    {
     "name": "stdout",
     "output_type": "stream",
     "text": [
      "[1, 2, 3] <class 'list'>\n",
      "1\n",
      "(1, 2, 3) <class 'tuple'>\n",
      "1\n"
     ]
    }
   ],
   "source": [
    "s1 = set([1, 2, 3])\n",
    "# print(s1[0])  # TypeError: 'set' object is not subscriptable\n",
    "l1 = list(s1)\n",
    "print(l1, type(l1))\n",
    "print(l1[0])\n",
    "\n",
    "t1 = tuple(s1)\n",
    "print(t1, type(t1))\n",
    "print(t1[0])"
   ]
  },
  {
   "cell_type": "markdown",
   "metadata": {},
   "source": [
    "#### 1. 교집합, 합집합, 차집합\n"
   ]
  },
  {
   "cell_type": "markdown",
   "metadata": {},
   "source": [
    "- 교집합 - `&`, `intersection`"
   ]
  },
  {
   "cell_type": "code",
   "execution_count": 30,
   "metadata": {},
   "outputs": [
    {
     "name": "stdout",
     "output_type": "stream",
     "text": [
      "{4, 5, 6}\n",
      "{4, 5, 6}\n",
      "{4, 5, 6}\n"
     ]
    }
   ],
   "source": [
    "s1 = set([1, 2, 3, 4, 5, 6])\n",
    "s2 = set([4, 5, 6, 7, 8, 9])\n",
    "print(s1 & s2)\n",
    "print(s1.intersection(s2))\n",
    "print(s2.intersection(s1))"
   ]
  },
  {
   "cell_type": "markdown",
   "metadata": {},
   "source": [
    "- 합집합 - `|`, `union`\n",
    "    - 중복해서 포함된 값은 1개씩만 표현됨"
   ]
  },
  {
   "cell_type": "code",
   "execution_count": 31,
   "metadata": {},
   "outputs": [
    {
     "name": "stdout",
     "output_type": "stream",
     "text": [
      "{1, 2, 3, 4, 5, 6, 7, 8, 9}\n",
      "{1, 2, 3, 4, 5, 6, 7, 8, 9}\n",
      "{1, 2, 3, 4, 5, 6, 7, 8, 9}\n"
     ]
    }
   ],
   "source": [
    "s1 = set([1, 2, 3, 4, 5, 6])\n",
    "s2 = set([4, 5, 6, 7, 8, 9])\n",
    "print(s1 | s2)\n",
    "print(s1.union(s2))\n",
    "print(s2.union(s1))"
   ]
  },
  {
   "cell_type": "markdown",
   "metadata": {},
   "source": [
    "- 차집합 - `-`, `difference`"
   ]
  },
  {
   "cell_type": "code",
   "execution_count": 32,
   "metadata": {},
   "outputs": [
    {
     "name": "stdout",
     "output_type": "stream",
     "text": [
      "{1, 2, 3}\n",
      "{1, 2, 3}\n",
      "{8, 9, 7}\n"
     ]
    }
   ],
   "source": [
    "s1 = set([1, 2, 3, 4, 5, 6])\n",
    "s2 = set([4, 5, 6, 7, 8, 9])\n",
    "print(s1 - s2)\n",
    "print(s1.difference(s2))\n",
    "print(s2.difference(s1))"
   ]
  },
  {
   "cell_type": "markdown",
   "metadata": {},
   "source": [
    "#### 2. 집합 자료형 관련 함수"
   ]
  },
  {
   "cell_type": "markdown",
   "metadata": {},
   "source": [
    "- 값 1개 추가 - `add`\n",
    "    - 이미 만들어진 set 자료형에 값 추가"
   ]
  },
  {
   "cell_type": "code",
   "execution_count": 33,
   "metadata": {},
   "outputs": [
    {
     "data": {
      "text/plain": [
       "{1, 2, 3, 4}"
      ]
     },
     "execution_count": 33,
     "metadata": {},
     "output_type": "execute_result"
    }
   ],
   "source": [
    "s1 = set([1, 2, 3])\n",
    "s1.add(4)\n",
    "s1"
   ]
  },
  {
   "cell_type": "markdown",
   "metadata": {},
   "source": [
    "- 값 여러 개 추가 - `update`\n",
    "    - 여러 개의 값을 한꺼번에 추가"
   ]
  },
  {
   "cell_type": "code",
   "execution_count": 34,
   "metadata": {},
   "outputs": [
    {
     "data": {
      "text/plain": [
       "{1, 2, 3, 4, 5, 6, 7, 8, 9, 10}"
      ]
     },
     "execution_count": 34,
     "metadata": {},
     "output_type": "execute_result"
    }
   ],
   "source": [
    "s1 = set([1, 2, 3])\n",
    "s1.update((4, 5, 6))\n",
    "s1.update([7, 8])\n",
    "s1.update((9,))\n",
    "s1.add(10)\n",
    "s1"
   ]
  },
  {
   "cell_type": "markdown",
   "metadata": {},
   "source": [
    "- 특정 값 제거하기 - `remove`"
   ]
  },
  {
   "cell_type": "code",
   "execution_count": 35,
   "metadata": {},
   "outputs": [
    {
     "data": {
      "text/plain": [
       "{1, 3}"
      ]
     },
     "execution_count": 35,
     "metadata": {},
     "output_type": "execute_result"
    }
   ],
   "source": [
    "s1 = set([1, 2, 3])\n",
    "s1.remove(2)\n",
    "s1"
   ]
  },
  {
   "cell_type": "code",
   "execution_count": 36,
   "metadata": {},
   "outputs": [
    {
     "name": "stdout",
     "output_type": "stream",
     "text": [
      "1 <class 'int'>\n"
     ]
    }
   ],
   "source": [
    "[a, b] = [1, 2]\n",
    "print(a, type(a))"
   ]
  },
  {
   "cell_type": "markdown",
   "metadata": {},
   "source": [
    "### <리스트 복사하기>"
   ]
  },
  {
   "cell_type": "markdown",
   "metadata": {},
   "source": [
    "#### 1. [:] 이용\n",
    "- 리스트 전체를 가리키는 [:]를 이용해 복사"
   ]
  },
  {
   "cell_type": "code",
   "execution_count": 37,
   "metadata": {},
   "outputs": [
    {
     "name": "stdout",
     "output_type": "stream",
     "text": [
      "[1, 4, 3]\n",
      "[1, 2, 3]\n",
      "140058975396480 140058975495808\n"
     ]
    }
   ],
   "source": [
    "a = [1, 2, 3]\n",
    "b = a[:]\n",
    "a[1] = 4\n",
    "print(a)\n",
    "print(b)\n",
    "print(id(a), id(b))"
   ]
  },
  {
   "cell_type": "markdown",
   "metadata": {},
   "source": [
    "#### 2. copy 모듈 사용\n",
    "- `from copy import copy`\n",
    "- `b = a[:]`와 `b = copy(a)`는 동일함\n",
    "- 리스트 자료형 자체 함수인 copy 함수를 사용하는 것과 동일함\n",
    "    - `b = a.copy()`"
   ]
  },
  {
   "cell_type": "code",
   "execution_count": 38,
   "metadata": {},
   "outputs": [
    {
     "name": "stdout",
     "output_type": "stream",
     "text": [
      "140058975395392 140058975396352 140058975395776\n",
      "False\n",
      "False\n"
     ]
    }
   ],
   "source": [
    "from copy import copy\n",
    "\n",
    "a = [1, 2, 3]\n",
    "b = copy(a)\n",
    "c = a.copy()\n",
    "print(id(a), id(b), id(c))\n",
    "print(a is b)\n",
    "print(a is c)"
   ]
  },
  {
   "cell_type": "markdown",
   "metadata": {},
   "source": [
    "### <변수를 만드는 여러가지 방법>"
   ]
  },
  {
   "cell_type": "markdown",
   "metadata": {},
   "source": [
    "#### 1. 튜플로 a, b에 값 대입"
   ]
  },
  {
   "cell_type": "code",
   "execution_count": 39,
   "metadata": {},
   "outputs": [
    {
     "name": "stdout",
     "output_type": "stream",
     "text": [
      "python java C# C++\n"
     ]
    }
   ],
   "source": [
    "a, b = (\"python\", \"java\")\n",
    "(c, d) = \"C#\", \"C++\"\n",
    "print(a, b, c, d)"
   ]
  },
  {
   "cell_type": "markdown",
   "metadata": {},
   "source": [
    "#### 2. 리스트로 변수 만들기"
   ]
  },
  {
   "cell_type": "code",
   "execution_count": 40,
   "metadata": {},
   "outputs": [
    {
     "name": "stdout",
     "output_type": "stream",
     "text": [
      "good morning\n"
     ]
    },
    {
     "data": {
      "text/plain": [
       "('good', 'morning')"
      ]
     },
     "execution_count": 40,
     "metadata": {},
     "output_type": "execute_result"
    }
   ],
   "source": [
    "[e, f] = [\"good\", \"morning\"]\n",
    "print(e, f)\n",
    "e, f"
   ]
  },
  {
   "cell_type": "markdown",
   "metadata": {},
   "source": [
    "#### 3. 여러 개의 변수에 같은 값 대입"
   ]
  },
  {
   "cell_type": "code",
   "execution_count": 41,
   "metadata": {},
   "outputs": [
    {
     "name": "stdout",
     "output_type": "stream",
     "text": [
      "python python\n",
      "java python\n"
     ]
    }
   ],
   "source": [
    "a = b = \"python\"\n",
    "print(a, b)\n",
    "\n",
    "a = \"python\"\n",
    "b = \"java\"\n",
    "a, b = b, a\n",
    "print(a, b)"
   ]
  }
 ],
 "metadata": {
  "kernelspec": {
   "display_name": "python",
   "language": "python",
   "name": "python3"
  },
  "language_info": {
   "codemirror_mode": {
    "name": "ipython",
    "version": 3
   },
   "file_extension": ".py",
   "mimetype": "text/x-python",
   "name": "python",
   "nbconvert_exporter": "python",
   "pygments_lexer": "ipython3",
   "version": "3.11.4"
  },
  "orig_nbformat": 4
 },
 "nbformat": 4,
 "nbformat_minor": 2
}
