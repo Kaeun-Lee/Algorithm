{
 "cells": [
  {
   "cell_type": "code",
   "execution_count": 39,
   "source": [
    "candies = [2,3,5,1,3]\r\n",
    "extraCandies = 3\r\n",
    "\r\n",
    "greatest = []\r\n",
    "max_num = 0\r\n",
    "for i in range(len(candies)):\r\n",
    "    num = candies[i] + extraCandies\r\n",
    "    if num >= max_num :\r\n",
    "        max_num = num\r\n",
    "    for j in range(len(candies)):\r\n",
    "        if candies[i] >= max_num:\r\n",
    "            greatest.append(\"true\")\r\n",
    "        else:\r\n",
    "            greatest.append(\"false\")\r\n",
    "\r\n",
    " \r\n",
    "    \r\n",
    "    \r\n",
    "    "
   ],
   "outputs": [],
   "metadata": {}
  },
  {
   "cell_type": "code",
   "execution_count": null,
   "source": [
    "candies = [2,3,5,1,3]\r\n",
    "extraCandies = 3\r\n",
    "\r\n",
    "greatest = []\r\n",
    "for i in range(len(candies)):\r\n",
    "    max_num = candies[i] + extraCandies\r\n",
    "    for j in range(len(candies)):\r\n",
    "        if max_num >="
   ],
   "outputs": [],
   "metadata": {}
  }
 ],
 "metadata": {
  "orig_nbformat": 4,
  "language_info": {
   "name": "python",
   "version": "3.7.10",
   "mimetype": "text/x-python",
   "codemirror_mode": {
    "name": "ipython",
    "version": 3
   },
   "pygments_lexer": "ipython3",
   "nbconvert_exporter": "python",
   "file_extension": ".py"
  },
  "kernelspec": {
   "name": "python3",
   "display_name": "Python 3.7.10 64-bit ('AI_exam': conda)"
  },
  "interpreter": {
   "hash": "49de8edb4a174572adfce8885130fd6486c82b1df7252289157b68155bf6ea64"
  }
 },
 "nbformat": 4,
 "nbformat_minor": 2
}