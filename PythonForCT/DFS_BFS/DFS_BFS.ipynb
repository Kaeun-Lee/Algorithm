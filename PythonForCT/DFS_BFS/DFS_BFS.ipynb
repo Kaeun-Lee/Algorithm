{
 "cells": [
  {
   "cell_type": "markdown",
   "metadata": {},
   "source": [
    "## DFS(Depth-First Search)\n",
    "- DFS는 **깊이 우선 탐색**이라고도 부르며, 그래프에서 **깊은 부분을 우선적으로 탐색**하는 알고리즘\n",
    "- DFS는 **스택 자료구조(혹은 재귀함수)**를 이용하며, 구체적인 동작 과정은 다음과 같음\n",
    "    1. 탐색 시작 노드를 스택에 삽입하고 방문 처리를 함\n",
    "    2. 스택의 최상단 노드에 방문하지 않은 인접 노드가 하나라도 있으면 그 노드를 스택에 넣고 방문 처리함. 방문하지 않은 인접 노드가 없으면 스택에서 최상단 노드를 꺼냄\n",
    "    3. 더 이상 2번의 과정을 수행할 수 없을 때까지 반복\n",
    " \n",
    "\n",
    " \n",
    "    <img src=\"./DFS.PNG\" style=\"width: 450px;\"/>"
   ]
  },
  {
   "cell_type": "code",
   "execution_count": 7,
   "metadata": {},
   "outputs": [],
   "source": [
    "# DFS 메서드 정의\n",
    "def dfs(graph, v, visited):\n",
    "    visited[v] = True       # 현재 노드를 방문 처리\n",
    "    print(v, end=' ')\n",
    "\n",
    "    for i in graph[v]:\n",
    "        if not visited[i]:  # False일 때\n",
    "            dfs(graph, i, visited)  # 현재 노드와 연결된 다른 노드를 재귀적으로 방문"
   ]
  },
  {
   "cell_type": "code",
   "execution_count": 8,
   "metadata": {},
   "outputs": [
    {
     "name": "stdout",
     "output_type": "stream",
     "text": [
      "1 2 7 6 8 3 4 5 "
     ]
    }
   ],
   "source": [
    "# 각 노드가 연결된 정보를 표현 (2차원 리스트)\n",
    "graph = [\n",
    "    [],                # 노드 값이 1부터 시작하므로 0번째 index를 빈 값으로 넣어줌\n",
    "    [2, 3, 8],\n",
    "    [1, 7],\n",
    "    [1, 4, 5],\n",
    "    [3, 5],\n",
    "    [3, 4],\n",
    "    [7],\n",
    "    [2, 6, 8],\n",
    "    [1, 7]\n",
    "]\n",
    "\n",
    "# 각 노드가 방문한 정보를 표현 (1차원 리스트)\n",
    "visited = [False] * 9  # 노드 값이 1부터 시작하므로 0번째 index까지 포함\n",
    "dfs(graph, 1, visited)"
   ]
  },
  {
   "cell_type": "code",
   "execution_count": null,
   "metadata": {},
   "outputs": [],
   "source": [
    "\n"
   ]
  }
 ],
 "metadata": {
  "interpreter": {
   "hash": "49de8edb4a174572adfce8885130fd6486c82b1df7252289157b68155bf6ea64"
  },
  "kernelspec": {
   "display_name": "Python 3.7.10 ('AI_exam')",
   "language": "python",
   "name": "python3"
  },
  "language_info": {
   "codemirror_mode": {
    "name": "ipython",
    "version": 3
   },
   "file_extension": ".py",
   "mimetype": "text/x-python",
   "name": "python",
   "nbconvert_exporter": "python",
   "pygments_lexer": "ipython3",
   "version": "3.7.10"
  },
  "orig_nbformat": 4
 },
 "nbformat": 4,
 "nbformat_minor": 2
}
